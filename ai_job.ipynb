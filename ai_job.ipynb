{
 "cells": [
  {
   "cell_type": "code",
   "execution_count": 9,
   "id": "5a88aacd-15d7-44b5-9c43-b792d43b4089",
   "metadata": {},
   "outputs": [
    {
     "data": {
      "text/html": [
       "\n",
       "        <iframe\n",
       "            width=\"100%\"\n",
       "            height=\"650\"\n",
       "            src=\"http://127.0.0.1:8053/\"\n",
       "            frameborder=\"0\"\n",
       "            allowfullscreen\n",
       "            \n",
       "        ></iframe>\n",
       "        "
      ],
      "text/plain": [
       "<IPython.lib.display.IFrame at 0x1f0a8cb9700>"
      ]
     },
     "metadata": {},
     "output_type": "display_data"
    }
   ],
   "source": [
    "# Install necessary libraries if you haven't already\n",
    "# pip install dash\n",
    "# pip install plotly\n",
    "# pip install pandas\n",
    "\n",
    "import dash\n",
    "import dash_core_components as dcc\n",
    "import dash_html_components as html\n",
    "import plotly.express as px\n",
    "import pandas as pd\n",
    "\n",
    "# Sample data based on the structure provided\n",
    "df = pd.read_json('C:/Users/abu_s/Desktop/Data/json/aijob.json')\n",
    "\n",
    "# Initialize the Dash app\n",
    "app = dash.Dash(__name__)\n",
    "\n",
    "# Visualization 1: Salary Distribution (Histogram)\n",
    "fig_salary_dist = px.histogram(df, x=\"Salary_USD\", title=\"Salary Distribution\", nbins=5)\n",
    "\n",
    "# Visualization 2: Salary vs. Company Size (Bar Chart)\n",
    "fig_salary_company_size = px.bar(df, x=\"Company_Size\", y=\"Salary_USD\", title=\"Salary vs. Company Size\", \n",
    "                                 labels={\"Salary_USD\": \"Salary (USD)\", \"Company_Size\": \"Company Size\"})\n",
    "\n",
    "# Visualization 3: AI Adoption Level vs. Job Growth Projection (Grouped Bar Chart)\n",
    "fig_ai_growth = px.bar(df, x=\"AI_Adoption_Level\", color=\"Job_Growth_Projection\", barmode=\"group\", \n",
    "                       title=\"AI Adoption Level vs. Job Growth Projection\")\n",
    "\n",
    "# Visualization 4: Remote-Friendly Jobs (Pie Chart)\n",
    "fig_remote_friendly = px.pie(df, names=\"Remote_Friendly\", title=\"Remote-Friendly Jobs\", hole=0.3)\n",
    "\n",
    "# Visualization 5: Job Growth Projection Distribution (Bar Chart)\n",
    "fig_job_growth = px.bar(df, x=\"Job_Growth_Projection\", title=\"Job Growth Projection Distribution\")\n",
    "\n",
    "# Visualization 6: Automation Risk vs. AI Adoption Level (Bubble Chart)\n",
    "fig_automation_ai = px.scatter(df, x=\"Automation_Risk\", y=\"AI_Adoption_Level\", size=\"Salary_USD\", color=\"Job_Growth_Projection\", \n",
    "                               title=\"Automation Risk vs. AI Adoption Level\", size_max=40)\n",
    "\n",
    "# Visualization 7: Required Skills vs. Job Titles (Word Cloud)\n",
    "# For this, we use a simple bar chart (as Plotly doesn't have a native word cloud functionality)\n",
    "fig_required_skills = px.bar(df, x=\"Required_Skills\", title=\"Required Skills for Job Titles\")\n",
    "\n",
    "# Layout of the Dashboard\n",
    "app.layout = html.Div(children=[\n",
    "    html.H1(children=\"Job Market Dashboard\"),\n",
    "\n",
    "    # Visualization 1: Salary Distribution\n",
    "    dcc.Graph(id=\"salary-dist\", figure=fig_salary_dist),\n",
    "\n",
    "    # Visualization 2: Salary vs. Company Size\n",
    "    dcc.Graph(id=\"salary-company-size\", figure=fig_salary_company_size),\n",
    "\n",
    "    # Visualization 3: AI Adoption Level vs. Job Growth Projection\n",
    "    dcc.Graph(id=\"ai-growth\", figure=fig_ai_growth),\n",
    "\n",
    "    # Visualization 4: Remote-Friendly Jobs\n",
    "    dcc.Graph(id=\"remote-friendly\", figure=fig_remote_friendly),\n",
    "\n",
    "    # Visualization 5: Job Growth Projection Distribution\n",
    "    dcc.Graph(id=\"job-growth\", figure=fig_job_growth),\n",
    "\n",
    "    # Visualization 6: Automation Risk vs. AI Adoption Level\n",
    "    dcc.Graph(id=\"automation-ai\", figure=fig_automation_ai),\n",
    "\n",
    "    # Visualization 7: Required Skills vs. Job Titles\n",
    "    dcc.Graph(id=\"required-skills\", figure=fig_required_skills)\n",
    "])\n",
    "\n",
    "# Run the app\n",
    "# Run the app on a different port (e.g., 8051 or 8052)\n",
    "app.run_server(debug=True, port=8053)  # Change the port number here\n"
   ]
  },
  {
   "cell_type": "code",
   "execution_count": null,
   "id": "ff50e691-5b9e-4524-89c0-13ab7a43ff88",
   "metadata": {},
   "outputs": [],
   "source": []
  }
 ],
 "metadata": {
  "kernelspec": {
   "display_name": "Python 3 (ipykernel)",
   "language": "python",
   "name": "python3"
  },
  "language_info": {
   "codemirror_mode": {
    "name": "ipython",
    "version": 3
   },
   "file_extension": ".py",
   "mimetype": "text/x-python",
   "name": "python",
   "nbconvert_exporter": "python",
   "pygments_lexer": "ipython3",
   "version": "3.12.4"
  }
 },
 "nbformat": 4,
 "nbformat_minor": 5
}
